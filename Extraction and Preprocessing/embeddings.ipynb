{
 "cells": [
  {
   "cell_type": "code",
   "execution_count": 1,
   "id": "f613215b",
   "metadata": {},
   "outputs": [],
   "source": [
    "import os\n",
    "import pandas as pd\n",
    "\n",
    "# Define the path to the directory with the CSV files\n",
    "chunks_dir = \"C:\\\\Users\\\\olive\\\\Desktop\\\\UGent\\\\Thesis\\\\Pratice\\\\chunks\"\n",
    "\n",
    "# Get all CSV filenames in that directory\n",
    "chunks_files = [f for f in os.listdir(chunks_dir) if f.endswith(\".csv\")]\n",
    "\n",
    "# Dictionary to store each DataFrame with filename (without .csv) as key\n",
    "dataframes = {}\n",
    "\n",
    "# Read each CSV into a pandas DataFrame\n",
    "for file in chunks_files:\n",
    "    file_path = os.path.join(chunks_dir, file)\n",
    "    df_name = os.path.splitext(file)[0]  # filename without extension\n",
    "    dataframes[df_name] = pd.read_csv(file_path)\n",
    "\n",
    "\n",
    "text_chunks_df = {}\n",
    "\n",
    "for name, df in dataframes.items():\n",
    "    text_chunks_df[name] = df['sentence_chunk'].tolist()"
   ]
  },
  {
   "cell_type": "code",
   "execution_count": 2,
   "id": "e5b8ec3d",
   "metadata": {},
   "outputs": [],
   "source": [
    "import os\n",
    "os.environ[\"TRANSFORMERS_NO_TF\"] = \"1\"\n",
    "\n",
    "from sentence_transformers import SentenceTransformer"
   ]
  },
  {
   "cell_type": "code",
   "execution_count": 3,
   "id": "6aaf088f",
   "metadata": {},
   "outputs": [],
   "source": [
    "model = SentenceTransformer(\"intfloat/multilingual-e5-large-instruct\")"
   ]
  },
  {
   "cell_type": "code",
   "execution_count": 4,
   "id": "f0206aa5",
   "metadata": {},
   "outputs": [
    {
     "name": "stdout",
     "output_type": "stream",
     "text": [
      "Processing chunk: 10201929_chunks\n",
      "Processing chunk: 10229841_chunks\n",
      "Processing chunk: 10372271_chunks\n",
      "Processing chunk: 10423406_chunks\n",
      "Processing chunk: 1675604_chunks\n",
      "Processing chunk: 1765275_chunks\n",
      "Processing chunk: 1883525_chunks\n",
      "Processing chunk: 2109187_chunks\n",
      "Processing chunk: 7609053_chunks\n",
      "Processing chunk: 7989745_chunks\n",
      "Processing chunk: 8183915_chunks\n",
      "Processing chunk: 9111040_chunks\n",
      "Processing chunk: 9177216_chunks\n",
      "Processing chunk: 9188842_chunks\n",
      "Processing chunk: 9299399_chunks\n",
      "Processing chunk: 9419430_chunks\n",
      "Processing chunk: 9707608_chunks\n",
      "Processing chunk: 9858618_chunks\n",
      "Processing chunk: 9889197_chunks\n",
      "Processing chunk: 9989503_chunks\n",
      "All chunks processed and saved with embeddings.\n"
     ]
    }
   ],
   "source": [
    "import numpy as np\n",
    "\n",
    "# Loop through each chunk\n",
    "for name, df in dataframes.items():\n",
    "    print(f\"Processing chunk: {name}\")\n",
    "    \n",
    "    # Get the list of sentence chunks\n",
    "    sentences = df['sentence_chunk'].tolist()\n",
    "    \n",
    "    # Prefix each chunk with \"passage: \"\n",
    "    sentences_prefixed = [f\"passage: {s}\" for s in sentences]\n",
    "\n",
    "    # Compute the embeddings with the prefix\n",
    "    embeddings = model.encode(sentences_prefixed, batch_size=32, convert_to_tensor=True)\n",
    "\n",
    "    # Convert embeddings to list of numpy arrays and assign to new column\n",
    "    df['embedding'] = embeddings.cpu().numpy().tolist()\n",
    "    \n",
    "    # Save the DataFrame with embeddings back to CSV (overwrite or new name)\n",
    "    save_path = os.path.join(chunks_dir, f\"{name}.csv\")\n",
    "    df.to_csv(save_path, index=False)\n",
    "\n",
    "print(\"All chunks processed and saved with embeddings.\")\n"
   ]
  }
 ],
 "metadata": {
  "kernelspec": {
   "display_name": "Python 3",
   "language": "python",
   "name": "python3"
  },
  "language_info": {
   "codemirror_mode": {
    "name": "ipython",
    "version": 3
   },
   "file_extension": ".py",
   "mimetype": "text/x-python",
   "name": "python",
   "nbconvert_exporter": "python",
   "pygments_lexer": "ipython3",
   "version": "3.10.11"
  }
 },
 "nbformat": 4,
 "nbformat_minor": 5
}
