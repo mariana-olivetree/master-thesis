{
 "cells": [
  {
   "cell_type": "code",
   "execution_count": 2,
   "id": "b835e848",
   "metadata": {},
   "outputs": [
    {
     "name": "stdout",
     "output_type": "stream",
     "text": [
      "File 9094628_chunks processed and saved with embeddings.\n"
     ]
    }
   ],
   "source": [
    "import os\n",
    "import pandas as pd\n",
    "from sentence_transformers import SentenceTransformer\n",
    "import numpy as np\n",
    "\n",
    "# Specify the single file path\n",
    "file_path = r\"C:\\Users\\olive\\Desktop\\UGent\\Thesis\\Pratice\\chunks\\9094628_chunks.csv\"\n",
    "file_name = os.path.splitext(os.path.basename(file_path))[0]\n",
    "\n",
    "# Load the CSV into a DataFrame\n",
    "df = pd.read_csv(file_path)\n",
    "\n",
    "# Get list of sentence chunks\n",
    "sentences = df['sentence_chunk'].tolist()\n",
    "sentences_prefixed = [f\"passage: {s}\" for s in sentences]\n",
    "\n",
    "# Load model\n",
    "os.environ[\"TRANSFORMERS_NO_TF\"] = \"1\"\n",
    "model = SentenceTransformer(\"intfloat/multilingual-e5-large-instruct\")\n",
    "\n",
    "# Compute embeddings\n",
    "embeddings = model.encode(sentences_prefixed, batch_size=32, convert_to_tensor=True)\n",
    "df['embedding'] = embeddings.cpu().numpy().tolist()\n",
    "\n",
    "# Save back to same file or new one\n",
    "df.to_csv(file_path, index=False)\n",
    "\n",
    "print(f\"File {file_name} processed and saved with embeddings.\")\n"
   ]
  },
  {
   "cell_type": "code",
   "execution_count": null,
   "id": "1357bc0c",
   "metadata": {},
   "outputs": [],
   "source": []
  }
 ],
 "metadata": {
  "kernelspec": {
   "display_name": "Python 3",
   "language": "python",
   "name": "python3"
  },
  "language_info": {
   "codemirror_mode": {
    "name": "ipython",
    "version": 3
   },
   "file_extension": ".py",
   "mimetype": "text/x-python",
   "name": "python",
   "nbconvert_exporter": "python",
   "pygments_lexer": "ipython3",
   "version": "3.10.11"
  }
 },
 "nbformat": 4,
 "nbformat_minor": 5
}
