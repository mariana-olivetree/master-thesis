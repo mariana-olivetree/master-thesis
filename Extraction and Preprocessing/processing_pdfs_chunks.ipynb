{
 "cells": [
  {
   "cell_type": "code",
   "execution_count": 1,
   "id": "841aca3d",
   "metadata": {},
   "outputs": [
    {
     "name": "stdout",
     "output_type": "stream",
     "text": [
      "Processing 10201929.pdf...\n"
     ]
    },
    {
     "name": "stderr",
     "output_type": "stream",
     "text": [
      "C:\\Users\\olive\\AppData\\Local\\Packages\\PythonSoftwareFoundation.Python.3.10_qbz5n2kfra8p0\\LocalCache\\local-packages\\Python310\\site-packages\\spacy\\language.py:2195: FutureWarning: Possible set union at position 6328\n",
      "  deserializers[\"tokenizer\"] = lambda p: self.tokenizer.from_disk(  # type: ignore[union-attr]\n"
     ]
    },
    {
     "name": "stdout",
     "output_type": "stream",
     "text": [
      "Chunks for 10201929.pdf saved to chunks\\10201929_chunks.csv\n",
      "Processing 10229841.pdf...\n",
      "Chunks for 10229841.pdf saved to chunks\\10229841_chunks.csv\n",
      "Processing 10372271.pdf...\n",
      "Chunks for 10372271.pdf saved to chunks\\10372271_chunks.csv\n",
      "Processing 10423406.pdf...\n",
      "Chunks for 10423406.pdf saved to chunks\\10423406_chunks.csv\n",
      "Processing 1675604.pdf...\n",
      "Chunks for 1675604.pdf saved to chunks\\1675604_chunks.csv\n",
      "Processing 1765275.pdf...\n",
      "Chunks for 1765275.pdf saved to chunks\\1765275_chunks.csv\n",
      "Processing 1883525.pdf...\n",
      "Chunks for 1883525.pdf saved to chunks\\1883525_chunks.csv\n",
      "Processing 2109187.pdf...\n",
      "Chunks for 2109187.pdf saved to chunks\\2109187_chunks.csv\n",
      "Processing 7609053.pdf...\n",
      "Chunks for 7609053.pdf saved to chunks\\7609053_chunks.csv\n",
      "Processing 7989745.pdf...\n",
      "Chunks for 7989745.pdf saved to chunks\\7989745_chunks.csv\n",
      "Processing 8183915.pdf...\n",
      "Chunks for 8183915.pdf saved to chunks\\8183915_chunks.csv\n",
      "Processing 9111040.pdf...\n",
      "Chunks for 9111040.pdf saved to chunks\\9111040_chunks.csv\n",
      "Processing 9177216.pdf...\n",
      "Chunks for 9177216.pdf saved to chunks\\9177216_chunks.csv\n",
      "Processing 9188842.pdf...\n",
      "Chunks for 9188842.pdf saved to chunks\\9188842_chunks.csv\n",
      "Processing 9299399.pdf...\n",
      "Chunks for 9299399.pdf saved to chunks\\9299399_chunks.csv\n",
      "Processing 9419430.pdf...\n",
      "Chunks for 9419430.pdf saved to chunks\\9419430_chunks.csv\n",
      "Processing 9707608.pdf...\n",
      "Chunks for 9707608.pdf saved to chunks\\9707608_chunks.csv\n",
      "Processing 9858618.pdf...\n",
      "Chunks for 9858618.pdf saved to chunks\\9858618_chunks.csv\n",
      "Processing 9889197.pdf...\n",
      "Chunks for 9889197.pdf saved to chunks\\9889197_chunks.csv\n",
      "Processing 9989503.pdf...\n",
      "Chunks for 9989503.pdf saved to chunks\\9989503_chunks.csv\n"
     ]
    }
   ],
   "source": [
    "import os\n",
    "from pdfparser_new import PDFParser\n",
    "\n",
    "# Function to process all PDFs in the specified directory\n",
    "def process_pdfs_in_directory(pdf_directory, output_directory):\n",
    "    # Check if the directories exist\n",
    "    if not os.path.exists(pdf_directory):\n",
    "        print(f\"The directory {pdf_directory} does not exist.\")\n",
    "        return\n",
    "\n",
    "    if not os.path.exists(output_directory):\n",
    "        os.makedirs(output_directory)  # Create the output directory if it doesn't exist\n",
    "\n",
    "    # List all the files in the given directory\n",
    "    pdf_files = [f for f in os.listdir(pdf_directory) if f.lower().endswith('.pdf')]\n",
    "\n",
    "    # Loop through each PDF file\n",
    "    for pdf_file in pdf_files:\n",
    "        pdf_path = os.path.join(pdf_directory, pdf_file)\n",
    "        print(f\"Processing {pdf_file}...\")\n",
    "\n",
    "        # Create the PDFParser object\n",
    "        p = PDFParser(pdf_path)\n",
    "\n",
    "        # Get context chunks from the PDF\n",
    "        chunks = p.get_context_chunks(num_sentence_chunk_size=10, min_token_length=30)\n",
    "\n",
    "        # Define the output CSV file path\n",
    "        output_file = os.path.join(output_directory, f\"{os.path.splitext(pdf_file)[0]}_chunks.csv\")\n",
    "\n",
    "        # Save the chunks to a CSV file\n",
    "        chunks.to_csv(output_file, index=False)\n",
    "        print(f\"Chunks for {pdf_file} saved to {output_file}\")\n",
    "\n",
    "# Example usage\n",
    "pdf_directory = \"C:\\\\Users\\\\olive\\\\Desktop\\\\UGent\\\\Thesis\\\\Pratice\\\\genia\\\\GENIA_event_annotation_0.9\\\\PDFs\"  # Change this to the directory with your PDF files\n",
    "output_directory = \"chunks\"  # Change this to where you want the chunked CSVs to be saved\n",
    "process_pdfs_in_directory(pdf_directory, output_directory)\n"
   ]
  },
  {
   "cell_type": "code",
   "execution_count": null,
   "id": "55b2d885",
   "metadata": {},
   "outputs": [],
   "source": []
  }
 ],
 "metadata": {
  "kernelspec": {
   "display_name": "Python 3",
   "language": "python",
   "name": "python3"
  },
  "language_info": {
   "codemirror_mode": {
    "name": "ipython",
    "version": 3
   },
   "file_extension": ".py",
   "mimetype": "text/x-python",
   "name": "python",
   "nbconvert_exporter": "python",
   "pygments_lexer": "ipython3",
   "version": "3.10.11"
  }
 },
 "nbformat": 4,
 "nbformat_minor": 5
}
